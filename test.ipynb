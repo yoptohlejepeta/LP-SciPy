{
 "cells": [
  {
   "cell_type": "markdown",
   "metadata": {},
   "source": [
    "# LP Packages"
   ]
  },
  {
   "cell_type": "markdown",
   "metadata": {},
   "source": [
    "## Import packages"
   ]
  },
  {
   "cell_type": "code",
   "execution_count": 37,
   "metadata": {},
   "outputs": [],
   "source": [
    "import numpy as np\n",
    "import cvxopt\n",
    "from cvxopt.glpk import ilp\n",
    "import pulp\n",
    "from scipy.optimize import linprog\n",
    "from pyomo.environ import *"
   ]
  },
  {
   "cell_type": "markdown",
   "metadata": {},
   "source": [
    "## CVXOPT"
   ]
  },
  {
   "cell_type": "code",
   "execution_count": 101,
   "metadata": {},
   "outputs": [
    {
     "name": "stdout",
     "output_type": "stream",
     "text": [
      "CVXOPT Solution:\n",
      "x1 = 2.0\n",
      "x2 = 2.0\n",
      "Objective fun value: -18.0\n",
      "\n",
      "Scipy Solution:\n",
      "x1 = 0.0\n",
      "x2 = 4.0\n",
      "Objective fun value: -20.0\n"
     ]
    }
   ],
   "source": [
    "import numpy as np\n",
    "from cvxopt import matrix, solvers\n",
    "from scipy.optimize import linprog\n",
    "\n",
    "c_cvxopt = matrix(np.array([-4.0, -5.0], dtype=float))\n",
    "A_cvxopt = matrix(np.array([[2.0, 1.0], [1.0, 1.0]], dtype=float))\n",
    "b_cvxopt = matrix(np.array([6.0, 4.0], dtype=float))\n",
    "\n",
    "G_cvxopt = matrix(np.array([[-1.0, 0.0], [0.0, -1.0]]))  # Coefficients for the non-negativity constraints\n",
    "h_cvxopt = matrix(np.array([0.0, 0.0]))  # Constants for the non-negativity constraints\n",
    "\n",
    "sol_cvxopt = solvers.lp(c_cvxopt, G_cvxopt, h_cvxopt, A=A_cvxopt, b=b_cvxopt, options={'show_progress': False})\n",
    "\n",
    "print(\"CVXOPT Solution:\")\n",
    "print(\"x1 =\", round(sol_cvxopt['x'][0], 2))\n",
    "print(\"x2 =\", round(sol_cvxopt['x'][1], 2))\n",
    "print(\"Objective fun value:\", round(sol_cvxopt['primal objective'], 2))\n",
    "\n",
    "c_scipy = np.array([-4, -5])\n",
    "A_scipy = np.array([[2, 1], [1, 1]])\n",
    "b_scipy = np.array([6, 4])\n",
    "\n",
    "sol_scipy = linprog(c_scipy, A_ub=A_scipy, b_ub=b_scipy, bounds=(0, None))\n",
    "print(\"\\nScipy Solution:\")\n",
    "print(\"x1 =\", round(sol_scipy.x[0], 2))\n",
    "print(\"x2 =\", round(sol_scipy.x[1], 2))\n",
    "print(\"Objective fun value:\", round(sol_scipy.fun, 2))\n"
   ]
  },
  {
   "cell_type": "code",
   "execution_count": 52,
   "metadata": {},
   "outputs": [
    {
     "name": "stdout",
     "output_type": "stream",
     "text": [
      "CVXOPT solution: ('optimal', <2x1 matrix, tc='d'>)\n",
      "Objective fun value: [-1.00e+00]\n",
      "[-1.00e+00]\n",
      "\n",
      "GLPK Integer Optimizer 5.0\n",
      "2 rows, 2 columns, 4 non-zeros\n",
      "2 integer variables, all of which are binary\n",
      "Preprocessing...\n",
      "Objective value =  -9.000000000e+00\n",
      "INTEGER OPTIMAL SOLUTION FOUND BY MIP PREPROCESSOR\n"
     ]
    }
   ],
   "source": [
    "c_cvxopt = cvxopt.matrix([-4, -5], (2, 1), 'd')\n",
    "A_cvxopt = cvxopt.matrix([[2, 1], [1, 1]], (2, 2), 'd')\n",
    "b_cvxopt = cvxopt.matrix([6, 4], (2, 1), 'd')\n",
    "\n",
    "sol_cvxopt = ilp(c_cvxopt, A_cvxopt, b_cvxopt, I=set([0, 1]), B=set([0, 1]))\n",
    "\n",
    "print(\"CVXOPT solution:\", sol_cvxopt)\n",
    "print(\"Objective fun value:\", -sol_cvxopt[1])"
   ]
  },
  {
   "cell_type": "markdown",
   "metadata": {},
   "source": [
    "## PuLP"
   ]
  },
  {
   "cell_type": "code",
   "execution_count": 82,
   "metadata": {},
   "outputs": [
    {
     "name": "stdout",
     "output_type": "stream",
     "text": [
      "2*x1 + x2 <= 6\n",
      "x1 + x2 <= 4\n",
      "Welcome to the CBC MILP Solver \n",
      "Version: 2.10.3 \n",
      "Build Date: Dec 15 2019 \n",
      "\n",
      "command line - /home/petka/bakalarka/LP-packages/.venv/lib/python3.10/site-packages/pulp/solverdir/cbc/linux/64/cbc /tmp/c09668ba22e2480d8d85a0f703f73348-pulp.mps -timeMode elapsed -branch -printingOptions all -solution /tmp/c09668ba22e2480d8d85a0f703f73348-pulp.sol (default strategy 1)\n",
      "At line 2 NAME          MODEL\n",
      "At line 3 ROWS\n",
      "At line 7 COLUMNS\n",
      "At line 14 RHS\n",
      "At line 17 BOUNDS\n",
      "At line 18 ENDATA\n",
      "Problem MODEL has 2 rows, 2 columns and 4 elements\n",
      "Coin0008I MODEL read with 0 errors\n",
      "Option for timeMode changed from cpu to elapsed\n",
      "Presolve 2 (0) rows, 2 (0) columns and 4 (0) elements\n",
      "0  Obj 0 Dual inf 8.9999998 (2)\n",
      "0  Obj 0 Dual inf 8.9999998 (2)\n",
      "1  Obj -20\n",
      "Optimal - objective value -20\n",
      "Optimal objective -20 - 1 iterations time 0.002\n",
      "Option for printingOptions changed from normal to all\n",
      "Total time (CPU seconds):       0.00   (Wallclock seconds):       0.00\n",
      "\n",
      "PuLP Solution: [0. 4.]\n",
      "PuLP Objective Value: -20.0\n"
     ]
    },
    {
     "data": {
      "text/plain": [
       "Text(0, 0.5, '$y$')"
      ]
     },
     "execution_count": 82,
     "metadata": {},
     "output_type": "execute_result"
    },
    {
     "data": {
      "image/png": "[encoded data removed]",
      "text/plain": [
       "<Figure size 640x480 with 1 Axes>"
      ]
     },
     "metadata": {},
     "output_type": "display_data"
    }
   ],
   "source": [
    "c = np.array([-4, -5])  # Coefficients of the objective function\n",
    "A = np.array([[2, 1], [1, 1]])  # Coefficients of the inequality constraints\n",
    "b = np.array([6, 4])  # Right-hand side of the inequality constraints\n",
    "\n",
    "lp_problem_pulp = pulp.LpProblem(\"LP_Problem\", pulp.LpMinimize)\n",
    "x_pulp = [pulp.LpVariable(\"x{}\".format(i+1), lowBound=0) for i in range(len(c))]\n",
    "lp_problem_pulp += pulp.lpDot(c, x_pulp)\n",
    "for i in range(len(A)):\n",
    "    lp_problem_pulp += pulp.lpDot(A[i], x_pulp) <= b[i]\n",
    "    print(pulp.lpDot(A[i], x_pulp), \"<=\", b[i])\n",
    "lp_problem_pulp.solve()\n",
    "sol_pulp = np.array([x_pulp[i].value() for i in range(len(x_pulp))])\n",
    "print(\"PuLP Solution:\", sol_pulp)\n",
    "print(\"PuLP Objective Value:\", pulp.value(lp_problem_pulp.objective))\n",
    "\n",
    "# graph\n",
    "import matplotlib.pyplot as plt\n",
    "\n",
    "x = np.linspace(0, 10, 100)\n",
    "y1 = (6 - 2*x)\n",
    "y2 = (4 - x)\n",
    "\n",
    "plt.plot(x, y1, label=r'$2x + y \\leq 6$')\n",
    "plt.plot(x, y2, label=r'$x + y \\leq 4$')\n",
    "plt.xlim((0, 10))\n",
    "plt.ylim((0, 10))\n",
    "plt.xlabel(r'$x$')\n",
    "plt.ylabel(r'$y$')\n"
   ]
  },
  {
   "cell_type": "markdown",
   "metadata": {},
   "source": [
    "## SciPy"
   ]
  },
  {
   "cell_type": "code",
   "execution_count": 48,
   "metadata": {},
   "outputs": [
    {
     "name": "stdout",
     "output_type": "stream",
     "text": [
      "Scipy Solution: [0. 4.]\n",
      "Objective fun value: -20.0\n"
     ]
    }
   ],
   "source": [
    "c = np.array([-4, -5])  # Coefficients of the objective function\n",
    "A = np.array([[2, 1], [1, 1]])  # Coefficients of the inequality constraints\n",
    "b = np.array([6, 4])  # Right-hand side of the inequality constraints\n",
    "\n",
    "\n",
    "sol_scipy = linprog(c, A_ub=A, b_ub=b, bounds=(0, None), method='highs')\n",
    "print(\"Scipy Solution:\", sol_scipy.x)\n",
    "print(\"Objective fun value:\", sol_scipy.fun)"
   ]
  },
  {
   "cell_type": "markdown",
   "metadata": {},
   "source": [
    "## Pyomo"
   ]
  },
  {
   "cell_type": "code",
   "execution_count": 34,
   "metadata": {},
   "outputs": [
    {
     "name": "stdout",
     "output_type": "stream",
     "text": [
      "WARNING: Could not locate the 'glpsol' executable, which is required for\n",
      "solver 'glpk'\n"
     ]
    },
    {
     "ename": "ApplicationError",
     "evalue": "No executable found for solver 'glpk'",
     "output_type": "error",
     "traceback": [
      "\u001b[0;31m---------------------------------------------------------------------------\u001b[0m",
      "\u001b[0;31mApplicationError\u001b[0m                          Traceback (most recent call last)",
      "Cell \u001b[0;32mIn[34], line 13\u001b[0m\n\u001b[1;32m     11\u001b[0m     model\u001b[38;5;241m.\u001b[39mconstraints\u001b[38;5;241m.\u001b[39madd(\u001b[38;5;28msum\u001b[39m(A[i, j] \u001b[38;5;241m*\u001b[39m model\u001b[38;5;241m.\u001b[39mx[j] \u001b[38;5;28;01mfor\u001b[39;00m j \u001b[38;5;129;01min\u001b[39;00m \u001b[38;5;28mrange\u001b[39m(\u001b[38;5;28mlen\u001b[39m(c))) \u001b[38;5;241m<\u001b[39m\u001b[38;5;241m=\u001b[39m b[i])\n\u001b[1;32m     12\u001b[0m solver \u001b[38;5;241m=\u001b[39m SolverFactory(\u001b[38;5;124m'\u001b[39m\u001b[38;5;124mglpk\u001b[39m\u001b[38;5;124m'\u001b[39m)\n\u001b[0;32m---> 13\u001b[0m results \u001b[38;5;241m=\u001b[39m \u001b[43msolver\u001b[49m\u001b[38;5;241;43m.\u001b[39;49m\u001b[43msolve\u001b[49m\u001b[43m(\u001b[49m\u001b[43mmodel\u001b[49m\u001b[43m)\u001b[49m\n\u001b[1;32m     14\u001b[0m sol_pyomo \u001b[38;5;241m=\u001b[39m np\u001b[38;5;241m.\u001b[39marray([model\u001b[38;5;241m.\u001b[39mx[i]\u001b[38;5;241m.\u001b[39mvalue \u001b[38;5;28;01mfor\u001b[39;00m i \u001b[38;5;129;01min\u001b[39;00m \u001b[38;5;28mrange\u001b[39m(\u001b[38;5;28mlen\u001b[39m(c))])\n\u001b[1;32m     15\u001b[0m \u001b[38;5;28mprint\u001b[39m(\u001b[38;5;124m\"\u001b[39m\u001b[38;5;124mPyomo Solution:\u001b[39m\u001b[38;5;124m\"\u001b[39m, sol_pyomo)\n",
      "File \u001b[0;32m~/bakalarka/LP-packages/.venv/lib/python3.10/site-packages/pyomo/opt/base/solvers.py:534\u001b[0m, in \u001b[0;36mOptSolver.solve\u001b[0;34m(self, *args, **kwds)\u001b[0m\n\u001b[1;32m    531\u001b[0m \u001b[38;5;28;01mdef\u001b[39;00m \u001b[38;5;21msolve\u001b[39m(\u001b[38;5;28mself\u001b[39m, \u001b[38;5;241m*\u001b[39margs, \u001b[38;5;241m*\u001b[39m\u001b[38;5;241m*\u001b[39mkwds):\n\u001b[1;32m    532\u001b[0m \u001b[38;5;250m    \u001b[39m\u001b[38;5;124;03m\"\"\"Solve the problem\"\"\"\u001b[39;00m\n\u001b[0;32m--> 534\u001b[0m     \u001b[38;5;28;43mself\u001b[39;49m\u001b[38;5;241;43m.\u001b[39;49m\u001b[43mavailable\u001b[49m\u001b[43m(\u001b[49m\u001b[43mexception_flag\u001b[49m\u001b[38;5;241;43m=\u001b[39;49m\u001b[38;5;28;43;01mTrue\u001b[39;49;00m\u001b[43m)\u001b[49m\n\u001b[1;32m    535\u001b[0m     \u001b[38;5;66;03m#\u001b[39;00m\n\u001b[1;32m    536\u001b[0m     \u001b[38;5;66;03m# If the inputs are models, then validate that they have been\u001b[39;00m\n\u001b[1;32m    537\u001b[0m     \u001b[38;5;66;03m# constructed! Collect suffix names to try and import from solution.\u001b[39;00m\n\u001b[1;32m    538\u001b[0m     \u001b[38;5;66;03m#\u001b[39;00m\n\u001b[1;32m    539\u001b[0m     \u001b[38;5;28;01mfrom\u001b[39;00m \u001b[38;5;21;01mpyomo\u001b[39;00m\u001b[38;5;21;01m.\u001b[39;00m\u001b[38;5;21;01mcore\u001b[39;00m\u001b[38;5;21;01m.\u001b[39;00m\u001b[38;5;21;01mbase\u001b[39;00m\u001b[38;5;21;01m.\u001b[39;00m\u001b[38;5;21;01mblock\u001b[39;00m \u001b[38;5;28;01mimport\u001b[39;00m BlockData\n",
      "File \u001b[0;32m~/bakalarka/LP-packages/.venv/lib/python3.10/site-packages/pyomo/opt/solver/shellcmd.py:140\u001b[0m, in \u001b[0;36mSystemCallSolver.available\u001b[0;34m(self, exception_flag)\u001b[0m\n\u001b[1;32m    138\u001b[0m     \u001b[38;5;28;01mif\u001b[39;00m exception_flag:\n\u001b[1;32m    139\u001b[0m         msg \u001b[38;5;241m=\u001b[39m \u001b[38;5;124m\"\u001b[39m\u001b[38;5;124mNo executable found for solver \u001b[39m\u001b[38;5;124m'\u001b[39m\u001b[38;5;132;01m%s\u001b[39;00m\u001b[38;5;124m'\u001b[39m\u001b[38;5;124m\"\u001b[39m\n\u001b[0;32m--> 140\u001b[0m         \u001b[38;5;28;01mraise\u001b[39;00m ApplicationError(msg \u001b[38;5;241m%\u001b[39m \u001b[38;5;28mself\u001b[39m\u001b[38;5;241m.\u001b[39mname)\n\u001b[1;32m    141\u001b[0m     \u001b[38;5;28;01mreturn\u001b[39;00m \u001b[38;5;28;01mFalse\u001b[39;00m\n\u001b[1;32m    142\u001b[0m \u001b[38;5;28;01mreturn\u001b[39;00m \u001b[38;5;28;01mTrue\u001b[39;00m\n",
      "\u001b[0;31mApplicationError\u001b[0m: No executable found for solver 'glpk'"
     ]
    }
   ],
   "source": [
    "# Define the problem data\n",
    "c = np.array([-4, -5])  # Coefficients of the objective function\n",
    "A = np.array([[2, 1], [1, 1]])  # Coefficients of the inequality constraints\n",
    "b = np.array([6, 4])  # Right-hand side of the inequality constraints\n",
    "\n",
    "model = ConcreteModel()\n",
    "model.x = Var(range(len(c)), within=NonNegativeReals)\n",
    "model.objective = Objective(expr=sum(c[i] * model.x[i] for i in range(len(c))), sense=minimize)\n",
    "model.constraints = ConstraintList()\n",
    "for i in range(len(A)):\n",
    "    model.constraints.add(sum(A[i, j] * model.x[j] for j in range(len(c))) <= b[i])\n",
    "solver = SolverFactory('glpk')\n",
    "results = solver.solve(model)\n",
    "sol_pyomo = np.array([model.x[i].value for i in range(len(c))])\n",
    "print(\"Pyomo Solution:\", sol_pyomo)"
   ]
  }
 ],
 "metadata": {
  "kernelspec": {
   "display_name": ".venv",
   "language": "python",
   "name": "python3"
  },
  "language_info": {
   "codemirror_mode": {
    "name": "ipython",
    "version": 3
   },
   "file_extension": ".py",
   "mimetype": "text/x-python",
   "name": "python",
   "nbconvert_exporter": "python",
   "pygments_lexer": "ipython3",
   "version": "3.10.12"
  }
 },
 "nbformat": 4,
 "nbformat_minor": 2
}
