{
 "cells": [
  {
   "cell_type": "markdown",
   "metadata": {},
   "source": [
    "# LP SciPy"
   ]
  },
  {
   "cell_type": "code",
   "execution_count": 26,
   "metadata": {},
   "outputs": [],
   "source": [
    "import numpy as np\n",
    "from pulp import *\n",
    "import matplotlib.pyplot as plt"
   ]
  },
  {
   "cell_type": "code",
   "execution_count": 32,
   "metadata": {},
   "outputs": [
    {
     "ename": "TypeError",
     "evalue": "'LpVariable' object is not subscriptable",
     "output_type": "error",
     "traceback": [
      "\u001b[0;31m---------------------------------------------------------------------------\u001b[0m",
      "\u001b[0;31mTypeError\u001b[0m                                 Traceback (most recent call last)",
      "Cell \u001b[0;32mIn[32], line 7\u001b[0m\n\u001b[1;32m      5\u001b[0m x \u001b[38;5;241m=\u001b[39m LpVariable(\u001b[38;5;124m\"\u001b[39m\u001b[38;5;124mx\u001b[39m\u001b[38;5;124m\"\u001b[39m, lowBound\u001b[38;5;241m=\u001b[39m\u001b[38;5;241m0\u001b[39m, cat\u001b[38;5;241m=\u001b[39m\u001b[38;5;124m'\u001b[39m\u001b[38;5;124mContinuous\u001b[39m\u001b[38;5;124m'\u001b[39m)\n\u001b[1;32m      6\u001b[0m prob \u001b[38;5;241m=\u001b[39m LpProblem(\u001b[38;5;124m\"\u001b[39m\u001b[38;5;124mproblem\u001b[39m\u001b[38;5;124m\"\u001b[39m, LpMaximize)\n\u001b[0;32m----> 7\u001b[0m prob \u001b[38;5;241m+\u001b[39m\u001b[38;5;241m=\u001b[39m lpSum([c[i]\u001b[38;5;241m*\u001b[39mx[i] \u001b[38;5;28;01mfor\u001b[39;00m i \u001b[38;5;129;01min\u001b[39;00m \u001b[38;5;28mrange\u001b[39m(\u001b[38;5;241m2\u001b[39m)])\n\u001b[1;32m      8\u001b[0m \u001b[38;5;28;01mfor\u001b[39;00m i \u001b[38;5;129;01min\u001b[39;00m \u001b[38;5;28mrange\u001b[39m(\u001b[38;5;28mlen\u001b[39m(A)):\n\u001b[1;32m      9\u001b[0m     prob \u001b[38;5;241m+\u001b[39m\u001b[38;5;241m=\u001b[39m lpSum([A[i][j]\u001b[38;5;241m*\u001b[39mx[j] \u001b[38;5;28;01mfor\u001b[39;00m j \u001b[38;5;129;01min\u001b[39;00m \u001b[38;5;28mrange\u001b[39m(\u001b[38;5;241m2\u001b[39m)]) \u001b[38;5;241m<\u001b[39m\u001b[38;5;241m=\u001b[39m b[i]\n",
      "Cell \u001b[0;32mIn[32], line 7\u001b[0m, in \u001b[0;36m<listcomp>\u001b[0;34m(.0)\u001b[0m\n\u001b[1;32m      5\u001b[0m x \u001b[38;5;241m=\u001b[39m LpVariable(\u001b[38;5;124m\"\u001b[39m\u001b[38;5;124mx\u001b[39m\u001b[38;5;124m\"\u001b[39m, lowBound\u001b[38;5;241m=\u001b[39m\u001b[38;5;241m0\u001b[39m, cat\u001b[38;5;241m=\u001b[39m\u001b[38;5;124m'\u001b[39m\u001b[38;5;124mContinuous\u001b[39m\u001b[38;5;124m'\u001b[39m)\n\u001b[1;32m      6\u001b[0m prob \u001b[38;5;241m=\u001b[39m LpProblem(\u001b[38;5;124m\"\u001b[39m\u001b[38;5;124mproblem\u001b[39m\u001b[38;5;124m\"\u001b[39m, LpMaximize)\n\u001b[0;32m----> 7\u001b[0m prob \u001b[38;5;241m+\u001b[39m\u001b[38;5;241m=\u001b[39m lpSum([c[i]\u001b[38;5;241m*\u001b[39m\u001b[43mx\u001b[49m\u001b[43m[\u001b[49m\u001b[43mi\u001b[49m\u001b[43m]\u001b[49m \u001b[38;5;28;01mfor\u001b[39;00m i \u001b[38;5;129;01min\u001b[39;00m \u001b[38;5;28mrange\u001b[39m(\u001b[38;5;241m2\u001b[39m)])\n\u001b[1;32m      8\u001b[0m \u001b[38;5;28;01mfor\u001b[39;00m i \u001b[38;5;129;01min\u001b[39;00m \u001b[38;5;28mrange\u001b[39m(\u001b[38;5;28mlen\u001b[39m(A)):\n\u001b[1;32m      9\u001b[0m     prob \u001b[38;5;241m+\u001b[39m\u001b[38;5;241m=\u001b[39m lpSum([A[i][j]\u001b[38;5;241m*\u001b[39mx[j] \u001b[38;5;28;01mfor\u001b[39;00m j \u001b[38;5;129;01min\u001b[39;00m \u001b[38;5;28mrange\u001b[39m(\u001b[38;5;241m2\u001b[39m)]) \u001b[38;5;241m<\u001b[39m\u001b[38;5;241m=\u001b[39m b[i]\n",
      "\u001b[0;31mTypeError\u001b[0m: 'LpVariable' object is not subscriptable"
     ]
    }
   ],
   "source": [
    "c = np.array([600, 400])\n",
    "A = np.array([[2, 0.25], [4, 2], [3,1], [1,4]])\n",
    "b = np.array([45, 100, 300, 50])\n",
    "\n",
    "x = LpVariable.dicts(\"x\", range(2), lowBound=0, cat='Continuous')\n",
    "prob = LpProblem(\"problem\", LpMaximize)\n",
    "prob += lpSum([c[i]*x[i] for i in range(2)])\n",
    "for i in range(len(A)):\n",
    "    prob += lpSum([A[i][j]*x[j] for j in range(2)]) <= b[i]\n",
    "    \n",
    "prob.solve(PULP_CBC_CMD(msg=0))\n",
    "\n",
    "print(\"Status:\", LpStatus[prob.status])\n",
    "print(\"Objective value:\", value(prob.objective))\n",
    "print(\"Solution:\")\n",
    "for v in prob.variables():\n",
    "    print(v.name, \"=\", v.varValue)\n"
   ]
  }
 ],
 "metadata": {
  "kernelspec": {
   "display_name": ".venv",
   "language": "python",
   "name": "python3"
  },
  "language_info": {
   "codemirror_mode": {
    "name": "ipython",
    "version": 3
   },
   "file_extension": ".py",
   "mimetype": "text/x-python",
   "name": "python",
   "nbconvert_exporter": "python",
   "pygments_lexer": "ipython3",
   "version": "3.10.12"
  }
 },
 "nbformat": 4,
 "nbformat_minor": 2
}
