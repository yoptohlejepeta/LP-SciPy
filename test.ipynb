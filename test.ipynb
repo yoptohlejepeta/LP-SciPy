{
 "cells": [
  {
   "cell_type": "code",
   "execution_count": 2,
   "metadata": {},
   "outputs": [],
   "source": [
    "import numpy as np\n",
    "from pulp import *\n",
    "import matplotlib.pyplot as plt"
   ]
  },
  {
   "cell_type": "code",
   "execution_count": 13,
   "metadata": {},
   "outputs": [
    {
     "name": "stdout",
     "output_type": "stream",
     "text": [
      "Status: Optimal\n",
      "Objective value: 15714.285440000001\n",
      "Solution:\n",
      "x_0 = 21.428571\n",
      "x_1 = 7.1428571\n",
      "Dual variables:\n",
      "_C1 = -0.0\n",
      "_C2 = 142.85714\n",
      "_C3 = -0.0\n",
      "_C4 = 28.571429\n",
      "['PULP_CBC_CMD']\n"
     ]
    }
   ],
   "source": [
    "c = np.array([600, 400])\n",
    "A = np.array([[2, 0.25], [4, 2], [3,1], [1,4]])\n",
    "b = np.array([45, 100, 300, 50])\n",
    "\n",
    "x = LpVariable.dicts(\"x\", range(2), lowBound=0, cat='Continuous')\n",
    "prob = LpProblem(\"problem\", LpMaximize)\n",
    "prob += lpSum([c[i]*x[i] for i in range(2)])\n",
    "for i in range(len(A)):\n",
    "    prob += lpSum([A[i][j]*x[j] for j in range(2)]) <= b[i]\n",
    "    \n",
    "prob.solve(PULP_CBC_CMD(msg=0))\n",
    "\n",
    "print(\"Status:\", LpStatus[prob.status])\n",
    "print(\"Objective value:\", value(prob.objective))\n",
    "print(\"Solution:\")\n",
    "for v in prob.variables():\n",
    "    print(v.name, \"=\", v.varValue)\n",
    "\n",
    "print(\"Dual variables:\")\n",
    "for name, c in prob.constraints.items():\n",
    "    print(name, \"=\", c.pi)\n",
    "    \n",
    "print(listSolvers(onlyAvailable=True))"
   ]
  }
 ],
 "metadata": {
  "kernelspec": {
   "display_name": ".venv",
   "language": "python",
   "name": "python3"
  },
  "language_info": {
   "codemirror_mode": {
    "name": "ipython",
    "version": 3
   },
   "file_extension": ".py",
   "mimetype": "text/x-python",
   "name": "python",
   "nbconvert_exporter": "python",
   "pygments_lexer": "ipython3",
   "version": "3.10.12"
  }
 },
 "nbformat": 4,
 "nbformat_minor": 2
}
